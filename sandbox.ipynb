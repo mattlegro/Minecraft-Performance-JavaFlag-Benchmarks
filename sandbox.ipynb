{
 "cells": [
  {
   "cell_type": "markdown",
   "metadata": {},
   "source": [
    "[This website](https://www.soltoder.com/NBTLint/) for verifying SNBT strings for commands"
   ]
  },
  {
   "cell_type": "code",
   "execution_count": 15,
   "metadata": {},
   "outputs": [],
   "source": [
    "villager_data = \"\"\"{\n",
    "    VillagerData:\n",
    "    {\n",
    "        Offers:\n",
    "        {\n",
    "            Recipes:\n",
    "            [\n",
    "                {\n",
    "                    xp: 15,\n",
    "                    buy: \n",
    "                    {\n",
    "                        id: \"minecraft:emerald\",\n",
    "                        Count: 15b\n",
    "                    },\n",
    "                    sell: \n",
    "                    {\n",
    "                        id: \"minecraft:diamond_shovel\", \n",
    "                        tag: \n",
    "                        {\n",
    "                            Damage: 0,\n",
    "                            Enchantments: [\n",
    "                            {\n",
    "                                id: \"minecraft:efficiency\", \n",
    "                                lvl: 4s\n",
    "                            }\n",
    "                            ], \n",
    "                            Count1b, \n",
    "                        },\n",
    "                        uses: 0,\n",
    "                        priceMultiplier: 0.2f,\n",
    "                        maxUses: 3,\n",
    "                        rewardExp: 1b,\n",
    "                        demand: -259,\n",
    "                        specialPrice: 0,\n",
    "                        buyB: \n",
    "                        {\n",
    "                            id: \"minecraft:air\",\n",
    "                            tag: \n",
    "                            {\n",
    "                                Charged: 0b\n",
    "                            },\n",
    "                            Count: 0b \n",
    "                        }\n",
    "                    }\n",
    "                }\n",
    "            ]\n",
    "            \n",
    "        }\n",
    "    }\n",
    "}\"\"\""
   ]
  },
  {
   "cell_type": "code",
   "execution_count": 16,
   "metadata": {},
   "outputs": [
    {
     "data": {
      "text/plain": [
       "'{ VillagerData: { Offers: { Recipes: [ { xp: 15, buy: { id: \"minecraft:emerald\", Count: 15b }, sell: { id: \"minecraft:diamond_shovel\", tag: { Enchantments: [{id: \"minecraft:efficiency\", lvl: 4s}, Count1b }, } } ] } } }'"
      ]
     },
     "execution_count": 16,
     "metadata": {},
     "output_type": "execute_result"
    }
   ],
   "source": [
    "villager_data.replace(\"\\n\", \" \").replace(\"    \", \"\").replace(\"  \", \" \")"
   ]
  },
  {
   "cell_type": "code",
   "execution_count": 18,
   "metadata": {},
   "outputs": [
    {
     "data": {
      "text/plain": [
       "'{VillagerData: {Offers: {Recipes: [{xp: 15, buy: {id: \"minecraft:emerald\", Count: 15b}, sell: {id: \"minecraft:diamond_shovel\", tag: {Enchantments: [{id: \"minecraft:efficiency\", lvl: 4s}, Count: 1b},}}]}}}'"
      ]
     },
     "execution_count": 18,
     "metadata": {},
     "output_type": "execute_result"
    }
   ],
   "source": [
    "\"\"\"{VillagerData: {Offers: {Recipes: [{xp: 15, buy: {id: \"minecraft:emerald\", Count: 15b}, sell: {id: \"minecraft:diamond_shovel\", tag: {Enchantments: [{id: \"minecraft:efficiency\", lvl: 4s}, Count: 1b},}}]}}}\"\"\""
   ]
  },
  {
   "cell_type": "code",
   "execution_count": 21,
   "metadata": {},
   "outputs": [],
   "source": [
    "villager_data = \"\"\"{\n",
    "                    xp: 15,\n",
    "                    buy: \n",
    "                    {\n",
    "                        id: \"minecraft:emerald\",\n",
    "                        Count: 15b\n",
    "                    },\n",
    "                    sell: \n",
    "                    {\n",
    "                        id: \"minecraft:diamond_shovel\", \n",
    "                        tag: \n",
    "                        {\n",
    "                            Damage: 0,\n",
    "                            Enchantments: [\n",
    "                            {\n",
    "                                id: \"minecraft:efficiency\", \n",
    "                                lvl: 4s\n",
    "                            }\n",
    "                            ],                            \n",
    "                        },\n",
    "                        Count1b, \n",
    "                        uses: 0,\n",
    "                        priceMultiplier: 0.2f,\n",
    "                        maxUses: 3,\n",
    "                        rewardExp: 1b,\n",
    "                        demand: -259,\n",
    "                        specialPrice: 0,\n",
    "                        buyB: \n",
    "                        {\n",
    "                            id: \"minecraft:air\",\n",
    "                            tag: \n",
    "                            {\n",
    "                                Charged: 0b\n",
    "                            },\n",
    "                            Count: 0b \n",
    "                        }\n",
    "                    }\n",
    "                    }\"\"\""
   ]
  },
  {
   "cell_type": "code",
   "execution_count": 22,
   "metadata": {},
   "outputs": [
    {
     "data": {
      "text/plain": [
       "'{ xp: 15, buy: { id: \"minecraft:emerald\", Count: 15b }, sell: { id: \"minecraft:diamond_shovel\", tag: { Damage: 0, Enchantments: [ { id: \"minecraft:efficiency\", lvl: 4s } ], Count1b, }, uses: 0, priceMultiplier: 0.2f, maxUses: 3, rewardExp: 1b, demand: -259, specialPrice: 0, buyB: { id: \"minecraft:air\", tag: { Charged: 0b }, Count: 0b } } }'"
      ]
     },
     "execution_count": 22,
     "metadata": {},
     "output_type": "execute_result"
    }
   ],
   "source": [
    "villager_data.replace(\"\\n\", \" \").replace(\"    \", \"\").replace(\"  \", \" \")"
   ]
  },
  {
   "cell_type": "code",
   "execution_count": 27,
   "metadata": {},
   "outputs": [],
   "source": [
    "villager_data = \"\"\"{xp: 15, buy: {id: \"minecraft:emerald\", Count: 15b}, sell: {id: \"minecraft:diamond_shovel\", tag: {Damage: 0, Enchantments: [{id: \"minecraft:efficiency\", lvl: 4s}], Count: 1b}, uses: 0, priceMultiplier: 0.2f, maxUses: 3, rewardExp: 1b, demand: -259, specialPrice: 0, buyB: {id: \"minecraft:air\", tag: {Charged: 0b}, Count: 0b}}}\"\"\""
   ]
  },
  {
   "cell_type": "code",
   "execution_count": 57,
   "metadata": {},
   "outputs": [],
   "source": [
    "command_str = \"/data modify entity @e[name=Nelida,limit=1] Offers.Recipes append value \""
   ]
  },
  {
   "cell_type": "code",
   "execution_count": 29,
   "metadata": {},
   "outputs": [],
   "source": [
    "totat_str = command_str + villager_data"
   ]
  },
  {
   "cell_type": "code",
   "execution_count": 30,
   "metadata": {},
   "outputs": [
    {
     "data": {
      "text/plain": [
       "'/data modify entity @e[name=Nelida,limit=1] VillagerData.Offers.Recipes append value {xp: 15, buy: {id: \"minecraft:emerald\", Count: 15b}, sell: {id: \"minecraft:diamond_shovel\", tag: {Damage: 0, Enchantments: [{id: \"minecraft:efficiency\", lvl: 4s}], Count: 1b}, uses: 0, priceMultiplier: 0.2f, maxUses: 3, rewardExp: 1b, demand: -259, specialPrice: 0, buyB: {id: \"minecraft:air\", tag: {Charged: 0b}, Count: 0b}}}'"
      ]
     },
     "execution_count": 30,
     "metadata": {},
     "output_type": "execute_result"
    }
   ],
   "source": [
    "totat_str"
   ]
  },
  {
   "cell_type": "code",
   "execution_count": 31,
   "metadata": {},
   "outputs": [],
   "source": [
    "get_data_cmd = \"\"\"/data get entity @e[name=Nelida,limit=1]\"\"\""
   ]
  },
  {
   "cell_type": "code",
   "execution_count": 44,
   "metadata": {},
   "outputs": [],
   "source": [
    "Nelida = \"\"\"{\n",
    "\tDeathTime: 0s,\n",
    "\tRestocksToday: 0,\n",
    "\tXp: 806,\n",
    "\tLeftHanded: 0b,\n",
    "\tOnGround: 1b,\n",
    "\tAbsorptionAmount: 0f,\n",
    "\tFoodLevel: 0b,\n",
    "\tLastRestock: 10403631L,\n",
    "\tAttributes: [\n",
    "\t\t{\n",
    "\t\t\tName: \"minecraft:generic.follow_range\",\n",
    "\t\t\tModifiers: [\n",
    "\t\t\t\t{\n",
    "\t\t\t\t\tAmount: -0.019070398999773835d,\n",
    "\t\t\t\t\tUUID: [I; 1954170510, -8697008, -1831962796, 1459576291],\n",
    "\t\t\t\t\tName: \"Random spawn bonus\",\n",
    "\t\t\t\t\tOperation: 1\n",
    "\t\t\t\t}\n",
    "\t\t\t],\n",
    "\t\t\tBase: 48d\n",
    "\t\t},\n",
    "\t\t{\n",
    "\t\t\tName: \"minecraft:generic.movement_speed\",\n",
    "\t\t\tBase: 0.5d\n",
    "\t\t}\n",
    "\t],\n",
    "\tInvulnerable: 0b,\n",
    "\tBrain: {\n",
    "\t\tmemories: {\n",
    "\t\t\t\"minecraft:last_woken\": {\n",
    "\t\t\t\tvalue: 10400743L\n",
    "\t\t\t},\n",
    "\t\t\t\"minecraft:last_slept\": {\n",
    "\t\t\t\tvalue: 10388880L\n",
    "\t\t\t},\n",
    "\t\t\t\"minecraft:last_worked_at_poi\": {\n",
    "\t\t\t\tvalue: 10403631L\n",
    "\t\t\t},\n",
    "\t\t\t\"minecraft:home\": {\n",
    "\t\t\t\tvalue: {\n",
    "\t\t\t\t\tpos: [I; 2415, 125, -966],\n",
    "\t\t\t\t\tdimension: \"minecraft:overworld\"\n",
    "\t\t\t\t}\n",
    "\t\t\t},\n",
    "\t\t\t\"minecraft:job_site\": {\n",
    "\t\t\t\tvalue: {\n",
    "\t\t\t\t\tpos: [I; 2417, 125, -966],\n",
    "\t\t\t\t\tdimension: \"minecraft:overworld\"\n",
    "\t\t\t\t}\n",
    "\t\t\t},\n",
    "\t\t\t\"minecraft:meeting_point\": {\n",
    "\t\t\t\tvalue: {\n",
    "\t\t\t\t\tpos: [I; 2411, 127, -953],\n",
    "\t\t\t\t\tdimension: \"minecraft:overworld\"\n",
    "\t\t\t\t}\n",
    "\t\t\t},\n",
    "\t\t\t\"minecraft:golem_detected_recently\": {\n",
    "\t\t\t\tvalue: 1b,\n",
    "\t\t\t\tttl: 550L\n",
    "\t\t\t}\n",
    "\t\t}\n",
    "\t},\n",
    "\tAge: 0,\n",
    "\tActiveEffects: [\n",
    "\t\t{\n",
    "\t\t\tShowIcon: 0b,\n",
    "\t\t\tShowParticles: 0b,\n",
    "\t\t\tId: 10,\n",
    "\t\t\tDuration: 198,\n",
    "\t\t\tAmbient: 1b,\n",
    "\t\t\tAmplifier: 1b\n",
    "\t\t}\n",
    "\t],\n",
    "\tHandDropChances: [0.085f, 0.085f],\n",
    "\tArmorDropChances: [0.085f, 0.085f, 0.085f, 0.085f],\n",
    "\tRotation: [319.4819f, 0f],\n",
    "\tHurtByTimestamp: 0,\n",
    "\tForcedAge: 0,\n",
    "\tCustomName: '{\"text\":\"Nelida\"}',\n",
    "\tBalmData: {},\n",
    "\tArmorItems: [\n",
    "\t\t{},\n",
    "\t\t{},\n",
    "\t\t{},\n",
    "\t\t{}\n",
    "\t],\n",
    "\tAir: 300s,\n",
    "\tHandItems: [\n",
    "\t\t{},\n",
    "\t\t{}\n",
    "\t],\n",
    "\tOffers: {\n",
    "\t\tRecipes: [\n",
    "\t\t\t{\n",
    "\t\t\t\txp: 1,\n",
    "\t\t\t\tbuy: {\n",
    "\t\t\t\t\tid: \"minecraft:emerald\",\n",
    "\t\t\t\t\tCount: 1b\n",
    "\t\t\t\t},\n",
    "\t\t\t\tsell: {\n",
    "\t\t\t\t\tid: \"minecraft:stone_axe\",\n",
    "\t\t\t\t\ttag: {\n",
    "\t\t\t\t\t\tDamage: 0\n",
    "\t\t\t\t\t},\n",
    "\t\t\t\t\tCount: 1b\n",
    "\t\t\t\t},\n",
    "\t\t\t\tuses: 0,\n",
    "\t\t\t\tpriceMultiplier: 0.2f,\n",
    "\t\t\t\tmaxUses: 12,\n",
    "\t\t\t\trewardExp: 1b,\n",
    "\t\t\t\tdemand: -2514,\n",
    "\t\t\t\tspecialPrice: 0,\n",
    "\t\t\t\tbuyB: {\n",
    "\t\t\t\t\tid: \"minecraft:air\",\n",
    "\t\t\t\t\tCount: 1b\n",
    "\t\t\t\t}\n",
    "\t\t\t},\n",
    "\t\t\t{\n",
    "\t\t\t\txp: 1,\n",
    "\t\t\t\tbuy: {\n",
    "\t\t\t\t\tid: \"minecraft:emerald\",\n",
    "\t\t\t\t\tCount: 1b\n",
    "\t\t\t\t},\n",
    "\t\t\t\tsell: {\n",
    "\t\t\t\t\tid: \"minecraft:stone_pickaxe\",\n",
    "\t\t\t\t\ttag: {\n",
    "\t\t\t\t\t\tDamage: 0\n",
    "\t\t\t\t\t},\n",
    "\t\t\t\t\tCount: 1b\n",
    "\t\t\t\t},\n",
    "\t\t\t\tuses: 0,\n",
    "\t\t\t\tpriceMultiplier: 0.2f,\n",
    "\t\t\t\tmaxUses: 12,\n",
    "\t\t\t\trewardExp: 1b,\n",
    "\t\t\t\tdemand: -2468,\n",
    "\t\t\t\tspecialPrice: 0,\n",
    "\t\t\t\tbuyB: {\n",
    "\t\t\t\t\tid: \"minecraft:air\",\n",
    "\t\t\t\t\tCount: 1b\n",
    "\t\t\t\t}\n",
    "\t\t\t},\n",
    "\t\t\t{\n",
    "\t\t\t\txp: 10,\n",
    "\t\t\t\tbuy: {\n",
    "\t\t\t\t\tid: \"minecraft:iron_ingot\",\n",
    "\t\t\t\t\tCount: 4b\n",
    "\t\t\t\t},\n",
    "\t\t\t\tsell: {\n",
    "\t\t\t\t\tid: \"minecraft:emerald\",\n",
    "\t\t\t\t\tCount: 1b\n",
    "\t\t\t\t},\n",
    "\t\t\t\tuses: 0,\n",
    "\t\t\t\tpriceMultiplier: 0.05f,\n",
    "\t\t\t\tmaxUses: 12,\n",
    "\t\t\t\trewardExp: 1b,\n",
    "\t\t\t\tdemand: -1980,\n",
    "\t\t\t\tspecialPrice: 0,\n",
    "\t\t\t\tbuyB: {\n",
    "\t\t\t\t\tid: \"minecraft:air\",\n",
    "\t\t\t\t\ttag: {\n",
    "\t\t\t\t\t\tCharged: 0b\n",
    "\t\t\t\t\t},\n",
    "\t\t\t\t\tCount: 1b\n",
    "\t\t\t\t}\n",
    "\t\t\t},\n",
    "\t\t\t{\n",
    "\t\t\t\txp: 5,\n",
    "\t\t\t\tbuy: {\n",
    "\t\t\t\t\tid: \"minecraft:emerald\",\n",
    "\t\t\t\t\tCount: 36b\n",
    "\t\t\t\t},\n",
    "\t\t\t\tsell: {\n",
    "\t\t\t\t\tid: \"minecraft:bell\",\n",
    "\t\t\t\t\tCount: 1b\n",
    "\t\t\t\t},\n",
    "\t\t\t\tuses: 0,\n",
    "\t\t\t\tpriceMultiplier: 0.2f,\n",
    "\t\t\t\tmaxUses: 12,\n",
    "\t\t\t\trewardExp: 1b,\n",
    "\t\t\t\tdemand: -2004,\n",
    "\t\t\t\tspecialPrice: 0,\n",
    "\t\t\t\tbuyB: {\n",
    "\t\t\t\t\tid: \"minecraft:air\",\n",
    "\t\t\t\t\ttag: {\n",
    "\t\t\t\t\t\tCharged: 0b\n",
    "\t\t\t\t\t},\n",
    "\t\t\t\t\tCount: 1b\n",
    "\t\t\t\t}\n",
    "\t\t\t},\n",
    "\t\t\t{\n",
    "\t\t\t\txp: 20,\n",
    "\t\t\t\tbuy: {\n",
    "\t\t\t\t\tid: \"minecraft:flint\",\n",
    "\t\t\t\t\tCount: 30b\n",
    "\t\t\t\t},\n",
    "\t\t\t\tsell: {\n",
    "\t\t\t\t\tid: \"minecraft:emerald\",\n",
    "\t\t\t\t\tCount: 1b\n",
    "\t\t\t\t},\n",
    "\t\t\t\tuses: 0,\n",
    "\t\t\t\tpriceMultiplier: 0.05f,\n",
    "\t\t\t\tmaxUses: 12,\n",
    "\t\t\t\trewardExp: 1b,\n",
    "\t\t\t\tdemand: -1200,\n",
    "\t\t\t\tspecialPrice: 0,\n",
    "\t\t\t\tbuyB: {\n",
    "\t\t\t\t\tid: \"minecraft:air\",\n",
    "\t\t\t\t\tCount: 0b\n",
    "\t\t\t\t}\n",
    "\t\t\t},\n",
    "\t\t\t{\n",
    "\t\t\t\txp: 10,\n",
    "\t\t\t\tbuy: {\n",
    "\t\t\t\t\tid: \"minecraft:emerald\",\n",
    "\t\t\t\t\tCount: 4b\n",
    "\t\t\t\t},\n",
    "\t\t\t\tsell: {\n",
    "\t\t\t\t\tid: \"minecraft:diamond_hoe\",\n",
    "\t\t\t\t\ttag: {\n",
    "\t\t\t\t\t\tDamage: 0\n",
    "\t\t\t\t\t},\n",
    "\t\t\t\t\tCount: 1b\n",
    "\t\t\t\t},\n",
    "\t\t\t\tuses: 0,\n",
    "\t\t\t\tpriceMultiplier: 0.2f,\n",
    "\t\t\t\tmaxUses: 3,\n",
    "\t\t\t\trewardExp: 1b,\n",
    "\t\t\t\tdemand: -288,\n",
    "\t\t\t\tspecialPrice: 0,\n",
    "\t\t\t\tbuyB: {\n",
    "\t\t\t\t\tid: \"minecraft:air\",\n",
    "\t\t\t\t\tCount: 0b\n",
    "\t\t\t\t}\n",
    "\t\t\t},\n",
    "\t\t\t{\n",
    "\t\t\t\txp: 30,\n",
    "\t\t\t\tbuy: {\n",
    "\t\t\t\t\tid: \"minecraft:diamond\",\n",
    "\t\t\t\t\tCount: 1b\n",
    "\t\t\t\t},\n",
    "\t\t\t\tsell: {\n",
    "\t\t\t\t\tid: \"minecraft:emerald\",\n",
    "\t\t\t\t\tCount: 1b\n",
    "\t\t\t\t},\n",
    "\t\t\t\tuses: 0,\n",
    "\t\t\t\tpriceMultiplier: 0.05f,\n",
    "\t\t\t\tmaxUses: 12,\n",
    "\t\t\t\trewardExp: 1b,\n",
    "\t\t\t\tdemand: -1176,\n",
    "\t\t\t\tspecialPrice: 0,\n",
    "\t\t\t\tbuyB: {\n",
    "\t\t\t\t\tid: \"minecraft:air\",\n",
    "\t\t\t\t\ttag: {\n",
    "\t\t\t\t\t\tCharged: 0b\n",
    "\t\t\t\t\t},\n",
    "\t\t\t\t\tCount: 0b\n",
    "\t\t\t\t}\n",
    "\t\t\t},\n",
    "\t\t\t{\n",
    "\t\t\t\txp: 15,\n",
    "\t\t\t\tbuy: {\n",
    "\t\t\t\t\tid: \"minecraft:emerald\",\n",
    "\t\t\t\t\tCount: 18b\n",
    "\t\t\t\t},\n",
    "\t\t\t\tsell: {\n",
    "\t\t\t\t\tid: \"minecraft:diamond_axe\",\n",
    "\t\t\t\t\ttag: {\n",
    "\t\t\t\t\t\tDamage: 0,\n",
    "\t\t\t\t\t\tEnchantments: [\n",
    "\t\t\t\t\t\t\t{\n",
    "\t\t\t\t\t\t\t\tid: \"minecraft:sharpness\",\n",
    "\t\t\t\t\t\t\t\tlvl: 1s\n",
    "\t\t\t\t\t\t\t},\n",
    "\t\t\t\t\t\t\t{\n",
    "\t\t\t\t\t\t\t\tid: \"minecraft:bane_of_arthropods\",\n",
    "\t\t\t\t\t\t\t\tlvl: 1s\n",
    "\t\t\t\t\t\t\t}\n",
    "\t\t\t\t\t\t]\n",
    "\t\t\t\t\t},\n",
    "\t\t\t\t\tCount: 1b\n",
    "\t\t\t\t},\n",
    "\t\t\t\tuses: 0,\n",
    "\t\t\t\tpriceMultiplier: 0.2f,\n",
    "\t\t\t\tmaxUses: 3,\n",
    "\t\t\t\trewardExp: 1b,\n",
    "\t\t\t\tdemand: -284,\n",
    "\t\t\t\tspecialPrice: 0,\n",
    "\t\t\t\tbuyB: {\n",
    "\t\t\t\t\tid: \"minecraft:air\",\n",
    "\t\t\t\t\ttag: {\n",
    "\t\t\t\t\t\tCharged: 0b\n",
    "\t\t\t\t\t},\n",
    "\t\t\t\t\tCount: 0b\n",
    "\t\t\t\t}\n",
    "\t\t\t},\n",
    "\t\t\t{\n",
    "\t\t\t\txp: 30,\n",
    "\t\t\t\tbuy: {\n",
    "\t\t\t\t\tid: \"minecraft:emerald\",\n",
    "\t\t\t\t\tCount: 25b\n",
    "\t\t\t\t},\n",
    "\t\t\t\tsell: {\n",
    "\t\t\t\t\tid: \"minecraft:diamond_pickaxe\",\n",
    "\t\t\t\t\ttag: {\n",
    "\t\t\t\t\t\tDamage: 0,\n",
    "\t\t\t\t\t\tEnchantments: [\n",
    "\t\t\t\t\t\t\t{\n",
    "\t\t\t\t\t\t\t\tid: \"minecraft:efficiency\",\n",
    "\t\t\t\t\t\t\t\tlvl: 2s\n",
    "\t\t\t\t\t\t\t}\n",
    "\t\t\t\t\t\t]\n",
    "\t\t\t\t\t},\n",
    "\t\t\t\t\tCount: 1b\n",
    "\t\t\t\t},\n",
    "\t\t\t\tuses: 0,\n",
    "\t\t\t\tpriceMultiplier: 0.2f,\n",
    "\t\t\t\tmaxUses: 3,\n",
    "\t\t\t\trewardExp: 1b,\n",
    "\t\t\t\tdemand: -292,\n",
    "\t\t\t\tspecialPrice: 0,\n",
    "\t\t\t\tbuyB: {\n",
    "\t\t\t\t\tid: \"minecraft:air\",\n",
    "\t\t\t\t\ttag: {\n",
    "\t\t\t\t\t\tCharged: 0b\n",
    "\t\t\t\t\t},\n",
    "\t\t\t\t\tCount: 0b\n",
    "\t\t\t\t}\n",
    "\t\t\t},\n",
    "\t\t\t{\n",
    "\t\t\t\txp: 15,\n",
    "\t\t\t\tbuy: {\n",
    "\t\t\t\t\tid: \"minecraft:emerald\",\n",
    "\t\t\t\t\tCount: 15b\n",
    "\t\t\t\t},\n",
    "\t\t\t\tsell: {\n",
    "\t\t\t\t\tid: \"minecraft:air\",\n",
    "\t\t\t\t\ttag: {\n",
    "\t\t\t\t\t\tDamage: 0,\n",
    "\t\t\t\t\t\tEnchantments: [\n",
    "\t\t\t\t\t\t\t{\n",
    "\t\t\t\t\t\t\t\tid: \"minecraft:efficiency\",\n",
    "\t\t\t\t\t\t\t\tlvl: 4s\n",
    "\t\t\t\t\t\t\t}\n",
    "\t\t\t\t\t\t],\n",
    "\t\t\t\t\t\tCount: 1b\n",
    "\t\t\t\t\t},\n",
    "\t\t\t\t\tCount: 0b\n",
    "\t\t\t\t},\n",
    "\t\t\t\tuses: 0,\n",
    "\t\t\t\tpriceMultiplier: 0f,\n",
    "\t\t\t\tmaxUses: 4,\n",
    "\t\t\t\trewardExp: 1b,\n",
    "\t\t\t\tdemand: -8,\n",
    "\t\t\t\tspecialPrice: 0,\n",
    "\t\t\t\tbuyB: {\n",
    "\t\t\t\t\tid: \"minecraft:air\",\n",
    "\t\t\t\t\tCount: 0b\n",
    "\t\t\t\t}\n",
    "\t\t\t}\n",
    "\t\t]\n",
    "\t},\n",
    "\tUUID: [I; 1650925084, 1782926743, -2083818961, -1260944169],\n",
    "\tInventory: [\n",
    "\t\t{\n",
    "\t\t\tid: \"minecraft:wheat_seeds\",\n",
    "\t\t\tCount: 2b\n",
    "\t\t}\n",
    "\t],\n",
    "\tGossips: [\n",
    "\t\t{\n",
    "\t\t\tType: \"trading\",\n",
    "\t\t\tTarget: [I; 629529103, 1485983523, -1832645512, 2002374016],\n",
    "\t\t\tValue: 17\n",
    "\t\t}\n",
    "\t],\n",
    "\tFallDistance: 0f,\n",
    "\tVillagerData: {\n",
    "\t\ttype: \"minecraft:plains\",\n",
    "\t\tprofession: \"minecraft:toolsmith\",\n",
    "\t\tlevel: 5\n",
    "\t},\n",
    "\tMotion: [0d, -0.0784000015258789d, 0d],\n",
    "\tFire: -1s,\n",
    "\tPos: [2417.216380891579d, 126d, -965.8267965450121d],\n",
    "\tCanPickUpLoot: 1b,\n",
    "\tHealth: 20f,\n",
    "\tHurtTime: 0s,\n",
    "\tFallFlying: 0b,\n",
    "\tPersistenceRequired: 0b,\n",
    "\tLastGossipDecay: 10390981L,\n",
    "\tPortalCooldown: 0\n",
    "}\"\"\""
   ]
  },
  {
   "cell_type": "code",
   "execution_count": 45,
   "metadata": {},
   "outputs": [
    {
     "data": {
      "text/plain": [
       "'{\\n\\tDeathTime: 0s,\\n\\tRestocksToday: 0,\\n\\tXp: 806,\\n\\tLeftHanded: 0b,\\n\\tOnGround: 1b,\\n\\tAbsorptionAmount: 0f,\\n\\tFoodLevel: 0b,\\n\\tLastRestock: 10379045L,\\n\\tAttributes: [\\n\\t\\t{\\n\\t\\t\\tName: \"minecraft:generic.follow_range\",\\n\\t\\t\\tModifiers: [\\n\\t\\t\\t\\t{\\n\\t\\t\\t\\t\\tAmount: -0.019070398999773835d,\\n\\t\\t\\t\\t\\tUUID: [I; 1954170510, -8697008, -1831962796, 1459576291],\\n\\t\\t\\t\\t\\tName: \"Random spawn bonus\",\\n\\t\\t\\t\\t\\tOperation: 1\\n\\t\\t\\t\\t}\\n\\t\\t\\t],\\n\\t\\t\\tBase: 48d\\n\\t\\t},\\n\\t\\t{\\n\\t\\t\\tName: \"minecraft:generic.movement_speed\",\\n\\t\\t\\tBase: 0.5d\\n\\t\\t}\\n\\t],\\n\\tInvulnerable: 0b,\\n\\tBrain: {\\n\\t\\tmemories: {\\n\\t\\t\\t\"minecraft:last_woken\": {\\n\\t\\t\\t\\tvalue: 10376741L\\n\\t\\t\\t},\\n\\t\\t\\t\"minecraft:last_slept\": {\\n\\t\\t\\t\\tvalue: 10364797L\\n\\t\\t\\t},\\n\\t\\t\\t\"minecraft:last_worked_at_poi\": {\\n\\t\\t\\t\\tvalue: 10381160L\\n\\t\\t\\t},\\n\\t\\t\\t\"minecraft:home\": {\\n\\t\\t\\t\\tvalue: {\\n\\t\\t\\t\\t\\tpos: [I; 2415, 125, -966],\\n\\t\\t\\t\\t\\tdimension: \"minecraft:overworld\"\\n\\t\\t\\t\\t}\\n\\t\\t\\t},\\n\\t\\t\\t\"minecraft:job_site\": {\\n\\t\\t\\t\\tvalue: {\\n\\t\\t\\t\\t\\tpos: [I; 2417, 125, -966],\\n\\t\\t\\t\\t\\tdimension: \"minecraft:overworld\"\\n\\t\\t\\t\\t}\\n\\t\\t\\t},\\n\\t\\t\\t\"minecraft:meeting_point\": {\\n\\t\\t\\t\\tvalue: {\\n\\t\\t\\t\\t\\tpos: [I; 2411, 127, -953],\\n\\t\\t\\t\\t\\tdimension: \"minecraft:overworld\"\\n\\t\\t\\t\\t}\\n\\t\\t\\t},\\n\\t\\t\\t\"minecraft:golem_detected_recently\": {\\n\\t\\t\\t\\tvalue: 1b,\\n\\t\\t\\t\\tttl: 508L\\n\\t\\t\\t}\\n\\t\\t}\\n\\t},\\n\\tAge: 0,\\n\\tActiveEffects: [\\n\\t\\t{\\n\\t\\t\\tShowIcon: 0b,\\n\\t\\t\\tShowParticles: 0b,\\n\\t\\t\\tId: 10,\\n\\t\\t\\tDuration: 160,\\n\\t\\t\\tAmbient: 1b,\\n\\t\\t\\tAmplifier: 1b\\n\\t\\t}\\n\\t],\\n\\tHandDropChances: [0.085f, 0.085f],\\n\\tArmorDropChances: [0.085f, 0.085f, 0.085f, 0.085f],\\n\\tRotation: [339.23874f, 0f],\\n\\tHurtByTimestamp: 0,\\n\\tForcedAge: 0,\\n\\tCustomName: \\'{\"text\":\"Nelida\"}\\',\\n\\tBalmData: {},\\n\\tArmorItems: [\\n\\t\\t{},\\n\\t\\t{},\\n\\t\\t{},\\n\\t\\t{}\\n\\t],\\n\\tAir: 300s,\\n\\tHandItems: [\\n\\t\\t{},\\n\\t\\t{}\\n\\t],\\n\\tOffers: {\\n\\t\\tRecipes: [\\n\\t\\t\\t{\\n\\t\\t\\t\\txp: 1,\\n\\t\\t\\t\\tbuy: {\\n\\t\\t\\t\\t\\tid: \"minecraft:emerald\",\\n\\t\\t\\t\\t\\tCount: 1b\\n\\t\\t\\t\\t},\\n\\t\\t\\t\\tsell: {\\n\\t\\t\\t\\t\\tid: \"minecraft:stone_axe\",\\n\\t\\t\\t\\t\\ttag: {\\n\\t\\t\\t\\t\\t\\tDamage: 0\\n\\t\\t\\t\\t\\t},\\n\\t\\t\\t\\t\\tCount: 1b\\n\\t\\t\\t\\t},\\n\\t\\t\\t\\tuses: 0,\\n\\t\\t\\t\\tpriceMultiplier: 0.2f,\\n\\t\\t\\t\\tmaxUses: 12,\\n\\t\\t\\t\\trewardExp: 1b,\\n\\t\\t\\t\\tdemand: -2490,\\n\\t\\t\\t\\tspecialPrice: 0,\\n\\t\\t\\t\\tbuyB: {\\n\\t\\t\\t\\t\\tid: \"minecraft:air\",\\n\\t\\t\\t\\t\\tCount: 1b\\n\\t\\t\\t\\t}\\n\\t\\t\\t},\\n\\t\\t\\t{\\n\\t\\t\\t\\txp: 1,\\n\\t\\t\\t\\tbuy: {\\n\\t\\t\\t\\t\\tid: \"minecraft:emerald\",\\n\\t\\t\\t\\t\\tCount: 1b\\n\\t\\t\\t\\t},\\n\\t\\t\\t\\tsell: {\\n\\t\\t\\t\\t\\tid: \"minecraft:stone_pickaxe\",\\n\\t\\t\\t\\t\\ttag: {\\n\\t\\t\\t\\t\\t\\tDamage: 0\\n\\t\\t\\t\\t\\t},\\n\\t\\t\\t\\t\\tCount: 1b\\n\\t\\t\\t\\t},\\n\\t\\t\\t\\tuses: 0,\\n\\t\\t\\t\\tpriceMultiplier: 0.2f,\\n\\t\\t\\t\\tmaxUses: 12,\\n\\t\\t\\t\\trewardExp: 1b,\\n\\t\\t\\t\\tdemand: -2444,\\n\\t\\t\\t\\tspecialPrice: 0,\\n\\t\\t\\t\\tbuyB: {\\n\\t\\t\\t\\t\\tid: \"minecraft:air\",\\n\\t\\t\\t\\t\\tCount: 1b\\n\\t\\t\\t\\t}\\n\\t\\t\\t},\\n\\t\\t\\t{\\n\\t\\t\\t\\txp: 10,\\n\\t\\t\\t\\tbuy: {\\n\\t\\t\\t\\t\\tid: \"minecraft:iron_ingot\",\\n\\t\\t\\t\\t\\tCount: 4b\\n\\t\\t\\t\\t},\\n\\t\\t\\t\\tsell: {\\n\\t\\t\\t\\t\\tid: \"minecraft:emerald\",\\n\\t\\t\\t\\t\\tCount: 1b\\n\\t\\t\\t\\t},\\n\\t\\t\\t\\tuses: 0,\\n\\t\\t\\t\\tpriceMultiplier: 0.05f,\\n\\t\\t\\t\\tmaxUses: 12,\\n\\t\\t\\t\\trewardExp: 1b,\\n\\t\\t\\t\\tdemand: -1956,\\n\\t\\t\\t\\tspecialPrice: 0,\\n\\t\\t\\t\\tbuyB: {\\n\\t\\t\\t\\t\\tid: \"minecraft:air\",\\n\\t\\t\\t\\t\\ttag: {\\n\\t\\t\\t\\t\\t\\tCharged: 0b\\n\\t\\t\\t\\t\\t},\\n\\t\\t\\t\\t\\tCount: 1b\\n\\t\\t\\t\\t}\\n\\t\\t\\t},\\n\\t\\t\\t{\\n\\t\\t\\t\\txp: 5,\\n\\t\\t\\t\\tbuy: {\\n\\t\\t\\t\\t\\tid: \"minecraft:emerald\",\\n\\t\\t\\t\\t\\tCount: 36b\\n\\t\\t\\t\\t},\\n\\t\\t\\t\\tsell: {\\n\\t\\t\\t\\t\\tid: \"minecraft:bell\",\\n\\t\\t\\t\\t\\tCount: 1b\\n\\t\\t\\t\\t},\\n\\t\\t\\t\\tuses: 0,\\n\\t\\t\\t\\tpriceMultiplier: 0.2f,\\n\\t\\t\\t\\tmaxUses: 12,\\n\\t\\t\\t\\trewardExp: 1b,\\n\\t\\t\\t\\tdemand: -1980,\\n\\t\\t\\t\\tspecialPrice: 0,\\n\\t\\t\\t\\tbuyB: {\\n\\t\\t\\t\\t\\tid: \"minecraft:air\",\\n\\t\\t\\t\\t\\ttag: {\\n\\t\\t\\t\\t\\t\\tCharged: 0b\\n\\t\\t\\t\\t\\t},\\n\\t\\t\\t\\t\\tCount: 1b\\n\\t\\t\\t\\t}\\n\\t\\t\\t},\\n\\t\\t\\t{\\n\\t\\t\\t\\txp: 20,\\n\\t\\t\\t\\tbuy: {\\n\\t\\t\\t\\t\\tid: \"minecraft:flint\",\\n\\t\\t\\t\\t\\tCount: 30b\\n\\t\\t\\t\\t},\\n\\t\\t\\t\\tsell: {\\n\\t\\t\\t\\t\\tid: \"minecraft:emerald\",\\n\\t\\t\\t\\t\\tCount: 1b\\n\\t\\t\\t\\t},\\n\\t\\t\\t\\tuses: 0,\\n\\t\\t\\t\\tpriceMultiplier: 0.05f,\\n\\t\\t\\t\\tmaxUses: 12,\\n\\t\\t\\t\\trewardExp: 1b,\\n\\t\\t\\t\\tdemand: -1176,\\n\\t\\t\\t\\tspecialPrice: 0,\\n\\t\\t\\t\\tbuyB: {\\n\\t\\t\\t\\t\\tid: \"minecraft:air\",\\n\\t\\t\\t\\t\\tCount: 0b\\n\\t\\t\\t\\t}\\n\\t\\t\\t},\\n\\t\\t\\t{\\n\\t\\t\\t\\txp: 10,\\n\\t\\t\\t\\tbuy: {\\n\\t\\t\\t\\t\\tid: \"minecraft:emerald\",\\n\\t\\t\\t\\t\\tCount: 4b\\n\\t\\t\\t\\t},\\n\\t\\t\\t\\tsell: {\\n\\t\\t\\t\\t\\tid: \"minecraft:diamond_hoe\",\\n\\t\\t\\t\\t\\ttag: {\\n\\t\\t\\t\\t\\t\\tDamage: 0\\n\\t\\t\\t\\t\\t},\\n\\t\\t\\t\\t\\tCount: 1b\\n\\t\\t\\t\\t},\\n\\t\\t\\t\\tuses: 0,\\n\\t\\t\\t\\tpriceMultiplier: 0.2f,\\n\\t\\t\\t\\tmaxUses: 3,\\n\\t\\t\\t\\trewardExp: 1b,\\n\\t\\t\\t\\tdemand: -282,\\n\\t\\t\\t\\tspecialPrice: 0,\\n\\t\\t\\t\\tbuyB: {\\n\\t\\t\\t\\t\\tid: \"minecraft:air\",\\n\\t\\t\\t\\t\\tCount: 0b\\n\\t\\t\\t\\t}\\n\\t\\t\\t},\\n\\t\\t\\t{\\n\\t\\t\\t\\txp: 30,\\n\\t\\t\\t\\tbuy: {\\n\\t\\t\\t\\t\\tid: \"minecraft:diamond\",\\n\\t\\t\\t\\t\\tCount: 1b\\n\\t\\t\\t\\t},\\n\\t\\t\\t\\tsell: {\\n\\t\\t\\t\\t\\tid: \"minecraft:emerald\",\\n\\t\\t\\t\\t\\tCount: 1b\\n\\t\\t\\t\\t},\\n\\t\\t\\t\\tuses: 0,\\n\\t\\t\\t\\tpriceMultiplier: 0.05f,\\n\\t\\t\\t\\tmaxUses: 12,\\n\\t\\t\\t\\trewardExp: 1b,\\n\\t\\t\\t\\tdemand: -1152,\\n\\t\\t\\t\\tspecialPrice: 0,\\n\\t\\t\\t\\tbuyB: {\\n\\t\\t\\t\\t\\tid: \"minecraft:air\",\\n\\t\\t\\t\\t\\ttag: {\\n\\t\\t\\t\\t\\t\\tCharged: 0b\\n\\t\\t\\t\\t\\t},\\n\\t\\t\\t\\t\\tCount: 0b\\n\\t\\t\\t\\t}\\n\\t\\t\\t},\\n\\t\\t\\t{\\n\\t\\t\\t\\txp: 15,\\n\\t\\t\\t\\tbuy: {\\n\\t\\t\\t\\t\\tid: \"minecraft:emerald\",\\n\\t\\t\\t\\t\\tCount: 18b\\n\\t\\t\\t\\t},\\n\\t\\t\\t\\tsell: {\\n\\t\\t\\t\\t\\tid: \"minecraft:diamond_axe\",\\n\\t\\t\\t\\t\\ttag: {\\n\\t\\t\\t\\t\\t\\tDamage: 0,\\n\\t\\t\\t\\t\\t\\tEnchantments: [\\n\\t\\t\\t\\t\\t\\t\\t{\\n\\t\\t\\t\\t\\t\\t\\t\\tid: \"minecraft:sharpness\",\\n\\t\\t\\t\\t\\t\\t\\t\\tlvl: 1s\\n\\t\\t\\t\\t\\t\\t\\t},\\n\\t\\t\\t\\t\\t\\t\\t{\\n\\t\\t\\t\\t\\t\\t\\t\\tid: \"minecraft:bane_of_arthropods\",\\n\\t\\t\\t\\t\\t\\t\\t\\tlvl: 1s\\n\\t\\t\\t\\t\\t\\t\\t}\\n\\t\\t\\t\\t\\t\\t]\\n\\t\\t\\t\\t\\t},\\n\\t\\t\\t\\t\\tCount: 1b\\n\\t\\t\\t\\t},\\n\\t\\t\\t\\tuses: 0,\\n\\t\\t\\t\\tpriceMultiplier: 0.2f,\\n\\t\\t\\t\\tmaxUses: 3,\\n\\t\\t\\t\\trewardExp: 1b,\\n\\t\\t\\t\\tdemand: -278,\\n\\t\\t\\t\\tspecialPrice: 0,\\n\\t\\t\\t\\tbuyB: {\\n\\t\\t\\t\\t\\tid: \"minecraft:air\",\\n\\t\\t\\t\\t\\ttag: {\\n\\t\\t\\t\\t\\t\\tCharged: 0b\\n\\t\\t\\t\\t\\t},\\n\\t\\t\\t\\t\\tCount: 0b\\n\\t\\t\\t\\t}\\n\\t\\t\\t},\\n\\t\\t\\t{\\n\\t\\t\\t\\txp: 30,\\n\\t\\t\\t\\tbuy: {\\n\\t\\t\\t\\t\\tid: \"minecraft:emerald\",\\n\\t\\t\\t\\t\\tCount: 25b\\n\\t\\t\\t\\t},\\n\\t\\t\\t\\tsell: {\\n\\t\\t\\t\\t\\tid: \"minecraft:diamond_pickaxe\",\\n\\t\\t\\t\\t\\ttag: {\\n\\t\\t\\t\\t\\t\\tDamage: 0,\\n\\t\\t\\t\\t\\t\\tEnchantments: [\\n\\t\\t\\t\\t\\t\\t\\t{\\n\\t\\t\\t\\t\\t\\t\\t\\tid: \"minecraft:efficiency\",\\n\\t\\t\\t\\t\\t\\t\\t\\tlvl: 2s\\n\\t\\t\\t\\t\\t\\t\\t}\\n\\t\\t\\t\\t\\t\\t]\\n\\t\\t\\t\\t\\t},\\n\\t\\t\\t\\t\\tCount: 1b\\n\\t\\t\\t\\t},\\n\\t\\t\\t\\tuses: 0,\\n\\t\\t\\t\\tpriceMultiplier: 0.2f,\\n\\t\\t\\t\\tmaxUses: 3,\\n\\t\\t\\t\\trewardExp: 1b,\\n\\t\\t\\t\\tdemand: -286,\\n\\t\\t\\t\\tspecialPrice: 0,\\n\\t\\t\\t\\tbuyB: {\\n\\t\\t\\t\\t\\tid: \"minecraft:air\",\\n\\t\\t\\t\\t\\ttag: {\\n\\t\\t\\t\\t\\t\\tCharged: 0b\\n\\t\\t\\t\\t\\t},\\n\\t\\t\\t\\t\\tCount: 0b\\n\\t\\t\\t\\t}\\n\\t\\t\\t}\\n\\t\\t]\\n\\t},\\n\\tUUID: [I; 1650925084, 1782926743, -2083818961, -1260944169],\\n\\tInventory: [\\n\\t\\t{\\n\\t\\t\\tid: \"minecraft:wheat_seeds\",\\n\\t\\t\\tCount: 2b\\n\\t\\t}\\n\\t],\\n\\tGossips: [\\n\\t\\t{\\n\\t\\t\\tType: \"trading\",\\n\\t\\t\\tTarget: [I; 629529103, 1485983523, -1832645512, 2002374016],\\n\\t\\t\\tValue: 19\\n\\t\\t}\\n\\t],\\n\\tFallDistance: 0f,\\n\\tVillagerData: {\\n\\t\\ttype: \"minecraft:plains\",\\n\\t\\tprofession: \"minecraft:toolsmith\",\\n\\t\\tlevel: 5\\n\\t},\\n\\tMotion: [0d, -0.0784000015258789d, 0d],\\n\\tFire: -1s,\\n\\tPos: [2417.4115877276695d, 125.5d, -966.7950437177193d],\\n\\tCanPickUpLoot: 1b,\\n\\tHealth: 20f,\\n\\tHurtTime: 0s,\\n\\tFallFlying: 0b,\\n\\tPersistenceRequired: 0b,\\n\\tLastGossipDecay: 10366981L,\\n\\tPortalCooldown: 0\\n}'"
      ]
     },
     "execution_count": 45,
     "metadata": {},
     "output_type": "execute_result"
    }
   ],
   "source": [
    "Nelida"
   ]
  },
  {
   "cell_type": "code",
   "execution_count": 40,
   "metadata": {},
   "outputs": [],
   "source": [
    "import amulet_nbt\n",
    "import json"
   ]
  },
  {
   "cell_type": "code",
   "execution_count": 35,
   "metadata": {},
   "outputs": [],
   "source": [
    "tag = amulet_nbt.from_snbt(Nelida)"
   ]
  },
  {
   "cell_type": "code",
   "execution_count": 36,
   "metadata": {},
   "outputs": [
    {
     "data": {
      "text/plain": [
       "CompoundTag({'DeathTime': ShortTag(0), 'RestocksToday': IntTag(0), 'Xp': IntTag(806), 'LeftHanded': ByteTag(0), 'OnGround': ByteTag(1), 'AbsorptionAmount': FloatTag(0.0), 'FoodLevel': ByteTag(0), 'LastRestock': LongTag(10379045), 'Attributes': ListTag([CompoundTag({'Name': StringTag(\"minecraft:generic.follow_range\"), 'Modifiers': ListTag([CompoundTag({'Amount': DoubleTag(-0.019070398999773835), 'UUID': IntArrayTag([1954170510, -8697008, -1831962796, 1459576291]), 'Name': StringTag(\"Random spawn bonus\"), 'Operation': IntTag(1)})], 10), 'Base': DoubleTag(48.0)}), CompoundTag({'Name': StringTag(\"minecraft:generic.movement_speed\"), 'Base': DoubleTag(0.5)})], 10), 'Invulnerable': ByteTag(0), 'Brain': CompoundTag({'memories': CompoundTag({'minecraft:last_woken': CompoundTag({'value': LongTag(10376741)}), 'minecraft:last_slept': CompoundTag({'value': LongTag(10364797)}), 'minecraft:last_worked_at_poi': CompoundTag({'value': LongTag(10381160)}), 'minecraft:home': CompoundTag({'value': CompoundTag({'pos': IntArrayTag([2415, 125, -966]), 'dimension': StringTag(\"minecraft:overworld\")})}), 'minecraft:job_site': CompoundTag({'value': CompoundTag({'pos': IntArrayTag([2417, 125, -966]), 'dimension': StringTag(\"minecraft:overworld\")})}), 'minecraft:meeting_point': CompoundTag({'value': CompoundTag({'pos': IntArrayTag([2411, 127, -953]), 'dimension': StringTag(\"minecraft:overworld\")})}), 'minecraft:golem_detected_recently': CompoundTag({'value': ByteTag(1), 'ttl': LongTag(508)})})}), 'Age': IntTag(0), 'ActiveEffects': ListTag([CompoundTag({'ShowIcon': ByteTag(0), 'ShowParticles': ByteTag(0), 'Id': IntTag(10), 'Duration': IntTag(160), 'Ambient': ByteTag(1), 'Amplifier': ByteTag(1)})], 10), 'HandDropChances': ListTag([FloatTag(0.08500000089406967), FloatTag(0.08500000089406967)], 5), 'ArmorDropChances': ListTag([FloatTag(0.08500000089406967), FloatTag(0.08500000089406967), FloatTag(0.08500000089406967), FloatTag(0.08500000089406967)], 5), 'Rotation': ListTag([FloatTag(339.2387390136719), FloatTag(0.0)], 5), 'HurtByTimestamp': IntTag(0), 'ForcedAge': IntTag(0), 'CustomName': StringTag(\"{\\\"text\\\":\\\"Nelida\\\"}\"), 'BalmData': CompoundTag({}), 'ArmorItems': ListTag([CompoundTag({}), CompoundTag({}), CompoundTag({}), CompoundTag({})], 10), 'Air': ShortTag(300), 'HandItems': ListTag([CompoundTag({}), CompoundTag({})], 10), 'Offers': CompoundTag({'Recipes': ListTag([CompoundTag({'xp': IntTag(1), 'buy': CompoundTag({'id': StringTag(\"minecraft:emerald\"), 'Count': ByteTag(1)}), 'sell': CompoundTag({'id': StringTag(\"minecraft:stone_axe\"), 'tag': CompoundTag({'Damage': IntTag(0)}), 'Count': ByteTag(1)}), 'uses': IntTag(0), 'priceMultiplier': FloatTag(0.20000000298023224), 'maxUses': IntTag(12), 'rewardExp': ByteTag(1), 'demand': IntTag(-2490), 'specialPrice': IntTag(0), 'buyB': CompoundTag({'id': StringTag(\"minecraft:air\"), 'Count': ByteTag(1)})}), CompoundTag({'xp': IntTag(1), 'buy': CompoundTag({'id': StringTag(\"minecraft:emerald\"), 'Count': ByteTag(1)}), 'sell': CompoundTag({'id': StringTag(\"minecraft:stone_pickaxe\"), 'tag': CompoundTag({'Damage': IntTag(0)}), 'Count': ByteTag(1)}), 'uses': IntTag(0), 'priceMultiplier': FloatTag(0.20000000298023224), 'maxUses': IntTag(12), 'rewardExp': ByteTag(1), 'demand': IntTag(-2444), 'specialPrice': IntTag(0), 'buyB': CompoundTag({'id': StringTag(\"minecraft:air\"), 'Count': ByteTag(1)})}), CompoundTag({'xp': IntTag(10), 'buy': CompoundTag({'id': StringTag(\"minecraft:iron_ingot\"), 'Count': ByteTag(4)}), 'sell': CompoundTag({'id': StringTag(\"minecraft:emerald\"), 'Count': ByteTag(1)}), 'uses': IntTag(0), 'priceMultiplier': FloatTag(0.05000000074505806), 'maxUses': IntTag(12), 'rewardExp': ByteTag(1), 'demand': IntTag(-1956), 'specialPrice': IntTag(0), 'buyB': CompoundTag({'id': StringTag(\"minecraft:air\"), 'tag': CompoundTag({'Charged': ByteTag(0)}), 'Count': ByteTag(1)})}), CompoundTag({'xp': IntTag(5), 'buy': CompoundTag({'id': StringTag(\"minecraft:emerald\"), 'Count': ByteTag(36)}), 'sell': CompoundTag({'id': StringTag(\"minecraft:bell\"), 'Count': ByteTag(1)}), 'uses': IntTag(0), 'priceMultiplier': FloatTag(0.20000000298023224), 'maxUses': IntTag(12), 'rewardExp': ByteTag(1), 'demand': IntTag(-1980), 'specialPrice': IntTag(0), 'buyB': CompoundTag({'id': StringTag(\"minecraft:air\"), 'tag': CompoundTag({'Charged': ByteTag(0)}), 'Count': ByteTag(1)})}), CompoundTag({'xp': IntTag(20), 'buy': CompoundTag({'id': StringTag(\"minecraft:flint\"), 'Count': ByteTag(30)}), 'sell': CompoundTag({'id': StringTag(\"minecraft:emerald\"), 'Count': ByteTag(1)}), 'uses': IntTag(0), 'priceMultiplier': FloatTag(0.05000000074505806), 'maxUses': IntTag(12), 'rewardExp': ByteTag(1), 'demand': IntTag(-1176), 'specialPrice': IntTag(0), 'buyB': CompoundTag({'id': StringTag(\"minecraft:air\"), 'Count': ByteTag(0)})}), CompoundTag({'xp': IntTag(10), 'buy': CompoundTag({'id': StringTag(\"minecraft:emerald\"), 'Count': ByteTag(4)}), 'sell': CompoundTag({'id': StringTag(\"minecraft:diamond_hoe\"), 'tag': CompoundTag({'Damage': IntTag(0)}), 'Count': ByteTag(1)}), 'uses': IntTag(0), 'priceMultiplier': FloatTag(0.20000000298023224), 'maxUses': IntTag(3), 'rewardExp': ByteTag(1), 'demand': IntTag(-282), 'specialPrice': IntTag(0), 'buyB': CompoundTag({'id': StringTag(\"minecraft:air\"), 'Count': ByteTag(0)})}), CompoundTag({'xp': IntTag(30), 'buy': CompoundTag({'id': StringTag(\"minecraft:diamond\"), 'Count': ByteTag(1)}), 'sell': CompoundTag({'id': StringTag(\"minecraft:emerald\"), 'Count': ByteTag(1)}), 'uses': IntTag(0), 'priceMultiplier': FloatTag(0.05000000074505806), 'maxUses': IntTag(12), 'rewardExp': ByteTag(1), 'demand': IntTag(-1152), 'specialPrice': IntTag(0), 'buyB': CompoundTag({'id': StringTag(\"minecraft:air\"), 'tag': CompoundTag({'Charged': ByteTag(0)}), 'Count': ByteTag(0)})}), CompoundTag({'xp': IntTag(15), 'buy': CompoundTag({'id': StringTag(\"minecraft:emerald\"), 'Count': ByteTag(18)}), 'sell': CompoundTag({'id': StringTag(\"minecraft:diamond_axe\"), 'tag': CompoundTag({'Damage': IntTag(0), 'Enchantments': ListTag([CompoundTag({'id': StringTag(\"minecraft:sharpness\"), 'lvl': ShortTag(1)}), CompoundTag({'id': StringTag(\"minecraft:bane_of_arthropods\"), 'lvl': ShortTag(1)})], 10)}), 'Count': ByteTag(1)}), 'uses': IntTag(0), 'priceMultiplier': FloatTag(0.20000000298023224), 'maxUses': IntTag(3), 'rewardExp': ByteTag(1), 'demand': IntTag(-278), 'specialPrice': IntTag(0), 'buyB': CompoundTag({'id': StringTag(\"minecraft:air\"), 'tag': CompoundTag({'Charged': ByteTag(0)}), 'Count': ByteTag(0)})}), CompoundTag({'xp': IntTag(30), 'buy': CompoundTag({'id': StringTag(\"minecraft:emerald\"), 'Count': ByteTag(25)}), 'sell': CompoundTag({'id': StringTag(\"minecraft:diamond_pickaxe\"), 'tag': CompoundTag({'Damage': IntTag(0), 'Enchantments': ListTag([CompoundTag({'id': StringTag(\"minecraft:efficiency\"), 'lvl': ShortTag(2)})], 10)}), 'Count': ByteTag(1)}), 'uses': IntTag(0), 'priceMultiplier': FloatTag(0.20000000298023224), 'maxUses': IntTag(3), 'rewardExp': ByteTag(1), 'demand': IntTag(-286), 'specialPrice': IntTag(0), 'buyB': CompoundTag({'id': StringTag(\"minecraft:air\"), 'tag': CompoundTag({'Charged': ByteTag(0)}), 'Count': ByteTag(0)})})], 10)}), 'UUID': IntArrayTag([1650925084, 1782926743, -2083818961, -1260944169]), 'Inventory': ListTag([CompoundTag({'id': StringTag(\"minecraft:wheat_seeds\"), 'Count': ByteTag(2)})], 10), 'Gossips': ListTag([CompoundTag({'Type': StringTag(\"trading\"), 'Target': IntArrayTag([629529103, 1485983523, -1832645512, 2002374016]), 'Value': IntTag(19)})], 10), 'FallDistance': FloatTag(0.0), 'VillagerData': CompoundTag({'type': StringTag(\"minecraft:plains\"), 'profession': StringTag(\"minecraft:toolsmith\"), 'level': IntTag(5)}), 'Motion': ListTag([DoubleTag(0.0), DoubleTag(-0.0784000015258789), DoubleTag(0.0)], 6), 'Fire': ShortTag(-1), 'Pos': ListTag([DoubleTag(2417.4115877276695), DoubleTag(125.5), DoubleTag(-966.7950437177193)], 6), 'CanPickUpLoot': ByteTag(1), 'Health': FloatTag(20.0), 'HurtTime': ShortTag(0), 'FallFlying': ByteTag(0), 'PersistenceRequired': ByteTag(0), 'LastGossipDecay': LongTag(10366981), 'PortalCooldown': IntTag(0)})"
      ]
     },
     "execution_count": 36,
     "metadata": {},
     "output_type": "execute_result"
    }
   ],
   "source": [
    "tag"
   ]
  },
  {
   "cell_type": "code",
   "execution_count": 43,
   "metadata": {},
   "outputs": [
    {
     "ename": "JSONDecodeError",
     "evalue": "Expecting property name enclosed in double quotes: line 1 column 2 (char 1)",
     "output_type": "error",
     "traceback": [
      "\u001b[1;31m---------------------------------------------------------------------------\u001b[0m",
      "\u001b[1;31mJSONDecodeError\u001b[0m                           Traceback (most recent call last)",
      "Cell \u001b[1;32mIn[43], line 1\u001b[0m\n\u001b[1;32m----> 1\u001b[0m \u001b[38;5;28mprint\u001b[39m(\u001b[43mjson\u001b[49m\u001b[38;5;241;43m.\u001b[39;49m\u001b[43mloads\u001b[49m\u001b[43m(\u001b[49m\u001b[43mNelida\u001b[49m\u001b[43m)\u001b[49m)\n",
      "File \u001b[1;32mc:\\Users\\esmba\\miniconda3\\envs\\MinecraftBench\\Lib\\json\\__init__.py:346\u001b[0m, in \u001b[0;36mloads\u001b[1;34m(s, cls, object_hook, parse_float, parse_int, parse_constant, object_pairs_hook, **kw)\u001b[0m\n\u001b[0;32m    341\u001b[0m     s \u001b[38;5;241m=\u001b[39m s\u001b[38;5;241m.\u001b[39mdecode(detect_encoding(s), \u001b[38;5;124m'\u001b[39m\u001b[38;5;124msurrogatepass\u001b[39m\u001b[38;5;124m'\u001b[39m)\n\u001b[0;32m    343\u001b[0m \u001b[38;5;28;01mif\u001b[39;00m (\u001b[38;5;28mcls\u001b[39m \u001b[38;5;129;01mis\u001b[39;00m \u001b[38;5;28;01mNone\u001b[39;00m \u001b[38;5;129;01mand\u001b[39;00m object_hook \u001b[38;5;129;01mis\u001b[39;00m \u001b[38;5;28;01mNone\u001b[39;00m \u001b[38;5;129;01mand\u001b[39;00m\n\u001b[0;32m    344\u001b[0m         parse_int \u001b[38;5;129;01mis\u001b[39;00m \u001b[38;5;28;01mNone\u001b[39;00m \u001b[38;5;129;01mand\u001b[39;00m parse_float \u001b[38;5;129;01mis\u001b[39;00m \u001b[38;5;28;01mNone\u001b[39;00m \u001b[38;5;129;01mand\u001b[39;00m\n\u001b[0;32m    345\u001b[0m         parse_constant \u001b[38;5;129;01mis\u001b[39;00m \u001b[38;5;28;01mNone\u001b[39;00m \u001b[38;5;129;01mand\u001b[39;00m object_pairs_hook \u001b[38;5;129;01mis\u001b[39;00m \u001b[38;5;28;01mNone\u001b[39;00m \u001b[38;5;129;01mand\u001b[39;00m \u001b[38;5;129;01mnot\u001b[39;00m kw):\n\u001b[1;32m--> 346\u001b[0m     \u001b[38;5;28;01mreturn\u001b[39;00m \u001b[43m_default_decoder\u001b[49m\u001b[38;5;241;43m.\u001b[39;49m\u001b[43mdecode\u001b[49m\u001b[43m(\u001b[49m\u001b[43ms\u001b[49m\u001b[43m)\u001b[49m\n\u001b[0;32m    347\u001b[0m \u001b[38;5;28;01mif\u001b[39;00m \u001b[38;5;28mcls\u001b[39m \u001b[38;5;129;01mis\u001b[39;00m \u001b[38;5;28;01mNone\u001b[39;00m:\n\u001b[0;32m    348\u001b[0m     \u001b[38;5;28mcls\u001b[39m \u001b[38;5;241m=\u001b[39m JSONDecoder\n",
      "File \u001b[1;32mc:\\Users\\esmba\\miniconda3\\envs\\MinecraftBench\\Lib\\json\\decoder.py:337\u001b[0m, in \u001b[0;36mJSONDecoder.decode\u001b[1;34m(self, s, _w)\u001b[0m\n\u001b[0;32m    332\u001b[0m \u001b[38;5;28;01mdef\u001b[39;00m \u001b[38;5;21mdecode\u001b[39m(\u001b[38;5;28mself\u001b[39m, s, _w\u001b[38;5;241m=\u001b[39mWHITESPACE\u001b[38;5;241m.\u001b[39mmatch):\n\u001b[0;32m    333\u001b[0m \u001b[38;5;250m    \u001b[39m\u001b[38;5;124;03m\"\"\"Return the Python representation of ``s`` (a ``str`` instance\u001b[39;00m\n\u001b[0;32m    334\u001b[0m \u001b[38;5;124;03m    containing a JSON document).\u001b[39;00m\n\u001b[0;32m    335\u001b[0m \n\u001b[0;32m    336\u001b[0m \u001b[38;5;124;03m    \"\"\"\u001b[39;00m\n\u001b[1;32m--> 337\u001b[0m     obj, end \u001b[38;5;241m=\u001b[39m \u001b[38;5;28;43mself\u001b[39;49m\u001b[38;5;241;43m.\u001b[39;49m\u001b[43mraw_decode\u001b[49m\u001b[43m(\u001b[49m\u001b[43ms\u001b[49m\u001b[43m,\u001b[49m\u001b[43m \u001b[49m\u001b[43midx\u001b[49m\u001b[38;5;241;43m=\u001b[39;49m\u001b[43m_w\u001b[49m\u001b[43m(\u001b[49m\u001b[43ms\u001b[49m\u001b[43m,\u001b[49m\u001b[43m \u001b[49m\u001b[38;5;241;43m0\u001b[39;49m\u001b[43m)\u001b[49m\u001b[38;5;241;43m.\u001b[39;49m\u001b[43mend\u001b[49m\u001b[43m(\u001b[49m\u001b[43m)\u001b[49m\u001b[43m)\u001b[49m\n\u001b[0;32m    338\u001b[0m     end \u001b[38;5;241m=\u001b[39m _w(s, end)\u001b[38;5;241m.\u001b[39mend()\n\u001b[0;32m    339\u001b[0m     \u001b[38;5;28;01mif\u001b[39;00m end \u001b[38;5;241m!=\u001b[39m \u001b[38;5;28mlen\u001b[39m(s):\n",
      "File \u001b[1;32mc:\\Users\\esmba\\miniconda3\\envs\\MinecraftBench\\Lib\\json\\decoder.py:353\u001b[0m, in \u001b[0;36mJSONDecoder.raw_decode\u001b[1;34m(self, s, idx)\u001b[0m\n\u001b[0;32m    344\u001b[0m \u001b[38;5;250m\u001b[39m\u001b[38;5;124;03m\"\"\"Decode a JSON document from ``s`` (a ``str`` beginning with\u001b[39;00m\n\u001b[0;32m    345\u001b[0m \u001b[38;5;124;03ma JSON document) and return a 2-tuple of the Python\u001b[39;00m\n\u001b[0;32m    346\u001b[0m \u001b[38;5;124;03mrepresentation and the index in ``s`` where the document ended.\u001b[39;00m\n\u001b[1;32m   (...)\u001b[0m\n\u001b[0;32m    350\u001b[0m \n\u001b[0;32m    351\u001b[0m \u001b[38;5;124;03m\"\"\"\u001b[39;00m\n\u001b[0;32m    352\u001b[0m \u001b[38;5;28;01mtry\u001b[39;00m:\n\u001b[1;32m--> 353\u001b[0m     obj, end \u001b[38;5;241m=\u001b[39m \u001b[38;5;28;43mself\u001b[39;49m\u001b[38;5;241;43m.\u001b[39;49m\u001b[43mscan_once\u001b[49m\u001b[43m(\u001b[49m\u001b[43ms\u001b[49m\u001b[43m,\u001b[49m\u001b[43m \u001b[49m\u001b[43midx\u001b[49m\u001b[43m)\u001b[49m\n\u001b[0;32m    354\u001b[0m \u001b[38;5;28;01mexcept\u001b[39;00m \u001b[38;5;167;01mStopIteration\u001b[39;00m \u001b[38;5;28;01mas\u001b[39;00m err:\n\u001b[0;32m    355\u001b[0m     \u001b[38;5;28;01mraise\u001b[39;00m JSONDecodeError(\u001b[38;5;124m\"\u001b[39m\u001b[38;5;124mExpecting value\u001b[39m\u001b[38;5;124m\"\u001b[39m, s, err\u001b[38;5;241m.\u001b[39mvalue) \u001b[38;5;28;01mfrom\u001b[39;00m \u001b[38;5;28;01mNone\u001b[39;00m\n",
      "\u001b[1;31mJSONDecodeError\u001b[0m: Expecting property name enclosed in double quotes: line 1 column 2 (char 1)"
     ]
    }
   ],
   "source": [
    "print(json.loads(Nelida))"
   ]
  },
  {
   "cell_type": "code",
   "execution_count": 46,
   "metadata": {},
   "outputs": [],
   "source": [
    "modified_pickaxe = \"\"\"\n",
    "{\n",
    "    xp: 20,\n",
    "    buy: {\n",
    "        id: \"minecraft:emerald\",\n",
    "        Count: 20b\n",
    "    },\n",
    "    sell: {\n",
    "        id: \"minecraft:diamond_shovel\",\n",
    "        tag: {\n",
    "            Damage: 0,\n",
    "            Enchantments: [\n",
    "                {\n",
    "                    id: \"minecraft:efficiency\",\n",
    "                    lvl: 4s\n",
    "                }\n",
    "            ]\n",
    "        },\n",
    "        Count: 1b\n",
    "    },\n",
    "    uses: 0,\n",
    "    priceMultiplier: 0.2f,\n",
    "    maxUses: 3,\n",
    "    rewardExp: 1b,\n",
    "    demand: -292,\n",
    "    specialPrice: 0,\n",
    "    buyB: {\n",
    "        id: \"minecraft:air\",\n",
    "        tag: {\n",
    "            Charged: 0b\n",
    "        },\n",
    "        Count: 0b\n",
    "    }\n",
    "},\n",
    "\"\"\""
   ]
  },
  {
   "cell_type": "code",
   "execution_count": 51,
   "metadata": {},
   "outputs": [
    {
     "data": {
      "text/plain": [
       "' { xp: 20, buy: { id: \"minecraft:emerald\", Count: 20b }, sell: { id: \"minecraft:diamond_shovel\", tag: { Damage: 0, Enchantments: [ { id: \"minecraft:efficiency\", lvl: 4s } ] }, Count: 1b }, uses: 0, priceMultiplier: 0.2f, maxUses: 3, rewardExp: 1b, demand: -292, specialPrice: 0, buyB: { id: \"minecraft:air\", tag: { Charged: 0b }, Count: 0b } }, '"
      ]
     },
     "execution_count": 51,
     "metadata": {},
     "output_type": "execute_result"
    }
   ],
   "source": [
    "modified_pickaxe.replace(\"\\n\", \" \").replace(\"    \", \"\").replace(\"  \", \" \")"
   ]
  },
  {
   "cell_type": "code",
   "execution_count": 52,
   "metadata": {},
   "outputs": [],
   "source": [
    "modified_pickaxe = \"\"\"{xp: 20, buy: {id: \"minecraft:emerald\", Count: 20b}, sell: {id: \"minecraft:diamond_shovel\", tag: {Damage: 0, Enchantments: [{id: \"minecraft:efficiency\", lvl: 4s}]}, Count: 1b}, uses: 0, priceMultiplier: 0.2f, maxUses: 3, rewardExp: 1b, demand: -292, specialPrice: 0, buyB: {id: \"minecraft:air\", tag: {Charged: 0b}, Count: 0b}}\"\"\""
   ]
  },
  {
   "cell_type": "code",
   "execution_count": 53,
   "metadata": {},
   "outputs": [
    {
     "data": {
      "text/plain": [
       "'{xp: 20, buy: {id: \"minecraft:emerald\", Count: 20b}, sell: {id: \"minecraft:diamond_shovel\", tag: {Damage: 0, Enchantments: [{id: \"minecraft:efficiency\", lvl: 4s}]}, Count: 1b}, uses: 0, priceMultiplier: 0.2f, maxUses: 3, rewardExp: 1b, demand: -292, specialPrice: 0, buyB: {id: \"minecraft:air\", tag: {Charged: 0b}, Count: 0b}}'"
      ]
     },
     "execution_count": 53,
     "metadata": {},
     "output_type": "execute_result"
    }
   ],
   "source": [
    "modified_pickaxe"
   ]
  },
  {
   "cell_type": "code",
   "execution_count": 58,
   "metadata": {},
   "outputs": [],
   "source": [
    "full_from_pick = command_str + modified_pickaxe"
   ]
  },
  {
   "cell_type": "code",
   "execution_count": null,
   "metadata": {},
   "outputs": [],
   "source": []
  },
  {
   "cell_type": "code",
   "execution_count": 59,
   "metadata": {},
   "outputs": [
    {
     "data": {
      "text/plain": [
       "'/data modify entity @e[name=Nelida,limit=1] Offers.Recipes append value {xp: 20, buy: {id: \"minecraft:emerald\", Count: 20b}, sell: {id: \"minecraft:diamond_shovel\", tag: {Damage: 0, Enchantments: [{id: \"minecraft:efficiency\", lvl: 4s}]}, Count: 1b}, uses: 0, priceMultiplier: 0.2f, maxUses: 3, rewardExp: 1b, demand: -292, specialPrice: 0, buyB: {id: \"minecraft:air\", tag: {Charged: 0b}, Count: 0b}}'"
      ]
     },
     "execution_count": 59,
     "metadata": {},
     "output_type": "execute_result"
    }
   ],
   "source": [
    "full_from_pick"
   ]
  }
 ],
 "metadata": {
  "kernelspec": {
   "display_name": "MinecraftBench",
   "language": "python",
   "name": "python3"
  },
  "language_info": {
   "codemirror_mode": {
    "name": "ipython",
    "version": 3
   },
   "file_extension": ".py",
   "mimetype": "text/x-python",
   "name": "python",
   "nbconvert_exporter": "python",
   "pygments_lexer": "ipython3",
   "version": "3.12.2"
  }
 },
 "nbformat": 4,
 "nbformat_minor": 2
}
